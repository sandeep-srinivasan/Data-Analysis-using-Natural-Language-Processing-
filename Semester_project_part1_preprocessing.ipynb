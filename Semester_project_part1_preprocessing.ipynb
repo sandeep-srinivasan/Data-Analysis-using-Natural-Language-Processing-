{
 "cells": [
  {
   "cell_type": "code",
   "execution_count": 49,
   "metadata": {},
   "outputs": [],
   "source": [
    "import pandas as pd\n",
    "import numpy as np\n",
    "import os\n",
    "import regex as re\n",
    "import string\n",
    "import nltk\n",
    "import requests\n",
    "from bs4 import BeautifulSoup"
   ]
  },
  {
   "cell_type": "code",
   "execution_count": 97,
   "metadata": {},
   "outputs": [
    {
     "name": "stdout",
     "output_type": "stream",
     "text": [
      "[u'1.0' u'cocoa' u'grain' u'wheat' u'corn' u'barley' u'oat' u'sorghum']\n",
      "3\n",
      "[ 1.]\n",
      "0\n"
     ]
    }
   ],
   "source": [
    "for i in range(0,1):\n",
    "    if(i>=10):\n",
    "        filename = 'reut2-0'+str(i)+'.sgm'\n",
    "    else:\n",
    "        filename = 'reut2-00'+str(i)+'.sgm'\n",
    "    path = 'I:\\\\Users\\\\Sandeep\\\\Desktop\\\\Data Mining Project\\\\Files\\\\'+filename\n",
    "    file = open(path, 'rb')\n",
    "    data = file.read()\n",
    "    x = re.findall(r'<REUTERS(.*?)</REUTERS>', data.decode(\"utf-8\"), re.DOTALL, overlapped=True)\n",
    "    listtopics=np.empty([1,])\n",
    "    cntnotop=0 \n",
    "    for j in range(0,5):\n",
    "        y = re.findall(r'<TOPICS>(.*?)</TOPICS>', x[j].decode(\"utf-8\"), re.DOTALL, overlapped=True)\n",
    "        for k in range(0,len(y)):\n",
    "            lt = y[k]\n",
    "            topics = re.findall(r'<D>(.*?)</D>', lt.decode(\"utf-8\"), re.DOTALL, overlapped=True)\n",
    "            if(len(topics)==0):\n",
    "                cntnotop=cntnotop+1\n",
    "            for l in range(0,len(topics)):\n",
    "                listtopics = np.append(listtopics,topics[l])\n",
    "    print(listtopics)\n",
    "    print(cntnotop)\n",
    "    listplaces=np.empty([1,])\n",
    "    cntnoplc=0 \n",
    "    for j in range(0,5):\n",
    "        y = re.findall(r'<PLACES>(.*?)</PLACES>', x[j].decode(\"utf-8\"), re.DOTALL, overlapped=True)\n",
    "        for k in range(0,len(y)):\n",
    "            lt = y[k]\n",
    "            places = re.findall(r'<D>(.*?)</D>', lt.decode(\"utf-8\"), re.DOTALL, overlapped=True)\n",
    "            if(len(places)==0):\n",
    "                cntnoplc=cntnoplc+1\n",
    "            for l in range(0,len(places)):\n",
    "                litplaces = np.append(listplaces, places[l])\n",
    "    print(listplaces)\n",
    "    print(cntnoplc)"
   ]
  },
  {
   "cell_type": "code",
   "execution_count": 93,
   "metadata": {},
   "outputs": [],
   "source": [
    "topics = open(\"topics.txt\", \"w\")\n",
    "places = open(\"places.txt\", \"w\")"
   ]
  }
 ],
 "metadata": {
  "kernelspec": {
   "display_name": "Python 2",
   "language": "python",
   "name": "python2"
  },
  "language_info": {
   "codemirror_mode": {
    "name": "ipython",
    "version": 2
   },
   "file_extension": ".py",
   "mimetype": "text/x-python",
   "name": "python",
   "nbconvert_exporter": "python",
   "pygments_lexer": "ipython2",
   "version": "2.7.13"
  }
 },
 "nbformat": 4,
 "nbformat_minor": 2
}
