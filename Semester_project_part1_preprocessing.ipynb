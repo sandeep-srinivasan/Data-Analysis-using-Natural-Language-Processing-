{
 "cells": [
  {
   "cell_type": "code",
   "execution_count": 1,
   "metadata": {},
   "outputs": [],
   "source": [
    "import pandas as pd\n",
    "import numpy as np\n",
    "import os\n",
    "import regex as re\n",
    "import string"
   ]
  },
  {
   "cell_type": "code",
   "execution_count": 2,
   "metadata": {},
   "outputs": [],
   "source": [
    "# The following class and two functions have been taken from wikipedia at https://en.wikipedia.org/wiki/Trie#Algorithms\n",
    "\n",
    "class Node():\n",
    "    def __init__(self):\n",
    "       # Note that using dictionary for children (as in this implementation) would not allow lexicographic sorting mentioned in the next section (Sorting),\n",
    "       # because ordinary dictionary would not preserve the order of the keys\n",
    "        self.children = {}  # mapping from character ==> Node\n",
    "        self.value = None\n",
    "\n",
    "def find(node, key):\n",
    "    for char in key:\n",
    "        if char in node.children:\n",
    "            node = node.children[char]\n",
    "        else:\n",
    "            return None\n",
    "    return node.value\n",
    "    \n",
    "def insert(root, string, value):\n",
    "    node = root\n",
    "    index_last_char = None\n",
    "    for index_char, char in enumerate(string):\n",
    "        if char in node.children:\n",
    "            node = node.children[char]\n",
    "        else:\n",
    "            index_last_char = index_char\n",
    "            break\n",
    "\n",
    "    # append new nodes for the remaining characters, if any\n",
    "    if index_last_char is not None: \n",
    "        for char in string[index_last_char:]:\n",
    "            node.children[char] = Node()\n",
    "            node = node.children[char]\n",
    "\n",
    "    # store value in the terminal node\n",
    "    node.value = value\n",
    "\n",
    "# The following two functions have been written by the programmers for additional purposes of the trie    \n",
    "    \n",
    "def find_multiple(node, keys):\n",
    "    # Return values for multiple Keys in the trie Node in order that keys are presented\n",
    "    holder = node\n",
    "    vals = [None]*len(keys)\n",
    "    counter = 0\n",
    "    for key in keys:\n",
    "        node = holder\n",
    "        for char in key:\n",
    "            if char in node.children:\n",
    "                node = node.children[char]\n",
    "        vals[counter] = node.value\n",
    "        counter += 1\n",
    "    return vals\n",
    "\n",
    "def update(node, key, difference):\n",
    "    # Change the value which is currently stored for the Key in the trie Node by a value of Difference\n",
    "    for char in key:\n",
    "        if char in node.children:\n",
    "            node = node.children[char]\n",
    "    node.value += difference  "
   ]
  },
  {
   "cell_type": "code",
   "execution_count": 3,
   "metadata": {},
   "outputs": [
    {
     "name": "stdout",
     "output_type": "stream",
     "text": [
      "{'fuel', 'soy-meal', 'sun-oil', 'rye', 'fishmeal', 'palm-oil', 'nickel', 'coconut', 'groundnut-oil', 'carcass', 'propane', 'veg-oil', 'livestock', 'cruzado', 'castorseed', 'inventories', 'lit', 'acq', 'gnp', 'nkr', 'dfl', 'interest', 'jet', 'austdlr', 'wool', 'dmk', 'hk', 'yen', 'dlr', 'corn-oil', 'palladium', 'reserves', 'rupiah', 'copra-cake', 'naphtha', 'lei', 'meal-feed', 'zinc', 'cocoa', 'money-fx', 'saudriyal', 'platinum', 'tin', 'pet-chem', 'cottonseed', 'peseta', 'rapeseed', 'tea', 'lin-oil', 'rape-oil', 'wheat', 'trade', 'stg', 'plywood', 'cpi', 'lin-meal', 'castor-oil', 'citruspulp', 'linseed', 'sugar', 'palmkernel', 'coffee', 'gold', 'cotton', 'cotton-oil', 'soybean', 'can', 'lead', 'rape-meal', 'ringgit', 'sun-meal', 'corn', 'sorghum', 'ipi', 'copper', 'sunseed', 'housing', 'cornglutenfeed', 'gas', 'instal-debt', 'oilseed', 'nat-gas', 'rice', 'red-bean', 'wpi', 'lumber', 'grain', 'soy-oil', 'bop', 'rubber', 'barley', 'hog', 'alum', 'bfr', 'oat', 'ship', 'silver', 'strategic-metal', 'income', 'orange', 'crude', 'heat', 'l-cattle', 'tapioca', 'skr', 'cpu', 'iron-steel', 'pork-belly', 'earn', 'groundnut', 'rand', 'dkr', 'sfr', 'nzdlr', 'potato', 'jobs', 'f-cattle', 'coconut-oil', 'money-supply', 'retail'}\n",
      "[28, 27, 8, 2, 2, 43, 11, 6, 2, 75, 6, 137, 114, 1, 1, 7, 3, 2448, 163, 3, 3, 513, 8, 4, 2, 15, 1, 69, 217, 1, 3, 84, 1, 3, 7, 17, 51, 44, 76, 801, 3, 12, 33, 41, 1, 1, 35, 15, 2, 8, 306, 552, 21, 4, 112, 1, 2, 1, 2, 184, 3, 145, 135, 63, 3, 120, 3, 35, 1, 1, 2, 254, 35, 65, 78, 17, 21, 2, 65, 7, 192, 130, 67, 1, 32, 17, 628, 25, 116, 51, 54, 27, 63, 1, 14, 305, 37, 32, 18, 29, 634, 25, 9, 4, 1, 4, 67, 4, 3987, 10, 3, 1, 3, 4, 6, 76, 3, 7, 190, 27]\n",
      "{'yemen-demo-republic', 'pakistan', 'jamaica', 'dominican-republic', 'saudi-arabia', 'switzerland', 'el-salvador', 'spain', 'guatemala', 'yemen-arab-republic', 'namibia', 'ussr', 'japan', 'usa', 'jordan', 'uruguay', 'zimbabwe', 'china', 'ecuador', 'botswana', 'portugal', 'peru', 'qatar', 'bolivia', 'syria', 'kenya', 'niger', 'libya', 'burma', 'philippines', 'malaysia', 'ivory-coast', 'fiji', 'yugoslavia', 'senegal', 'nigeria', 'east-germany', 'thailand', 'ireland', 'argentina', 'uk', 'north-korea', 'nepal', 'cuba', 'congo', 'us-virgin-islands', 'algeria', 'honduras', 'djibouti', 'norway', 'austria', 'bermuda', 'nicaragua', 'madagascar', 'colombia', 'burkina-faso', 'uae', 'iraq', 'sierra-leone', 'aruba', 'mexico', 'hungary', 'liberia', 'afghanistan', 'haiti', 'cameroon', 'angola', 'malta', 'rwanda', 'lesotho', 'brazil', 'iran', 'south-korea', 'sudan', 'venezuela', 'canada', 'luxembourg', 'denmark', 'hong-kong', 'mozambique', 'antigua', 'bhutan', 'bulgaria', 'italy', 'somalia', 'mauritius', 'cyprus', 'liechtenstein', 'ghana', 'swaziland', 'chile', 'romania', 'bangladesh', 'cayman-islands', 'barbados', 'new-zealand', 'tanzania', 'bahamas', 'kuwait', 'benin', 'panama', 'finland', 'france', 'vanuatu', 'netherlands', 'israel', 'lebanon', 'west-germany', 'zambia', 'papua-new-guinea', 'vietnam', 'guam', 'mauritania', 'egypt', 'iceland', 'guyana', 'bahrain', 'gabon', 'brunei', 'greece', 'south-africa', 'ethiopia', 'turkey', 'costa-rica', 'guinea', 'india', 'singapore', 'sweden', 'sri-lanka', 'chad', 'tunisia', 'poland', 'taiwan', 'kampuchea', 'togo', 'belgium', 'oman', 'malawi', 'suriname', 'paraguay', 'trinidad-tobago', 'czechoslovakia', 'morocco', 'zaire', 'uganda', 'indonesia', 'australia'}\n",
      "[3, 39, 13, 8, 87, 214, 11, 115, 9, 8, 2, 216, 1138, 12542, 17, 5, 16, 223, 72, 3, 38, 45, 17, 23, 10, 19, 2, 16, 2, 136, 78, 20, 3, 47, 5, 37, 4, 81, 18, 90, 1489, 7, 3, 18, 2, 2, 35, 12, 2, 44, 27, 4, 28, 5, 53, 1, 42, 90, 3, 1, 81, 19, 3, 3, 8, 4, 2, 1, 2, 1, 332, 179, 111, 9, 75, 1104, 49, 56, 142, 5, 1, 1, 3, 170, 3, 5, 20, 1, 15, 1, 17, 5, 34, 2, 3, 112, 16, 1, 53, 1, 12, 40, 469, 1, 196, 27, 19, 567, 23, 7, 8, 2, 1, 49, 3, 2, 46, 5, 6, 36, 113, 5, 64, 19, 1, 82, 71, 112, 33, 8, 10, 18, 128, 2, 3, 214, 6, 4, 5, 2, 4, 5, 18, 9, 17, 99, 270]\n",
      "Data objects with no entries for topics: 10211\n",
      "Data objects with no entries for places: 2780\n"
     ]
    }
   ],
   "source": [
    "# the sets are a data structure which was solely used for checking results with the trie\n",
    "listtopics=set()\n",
    "listplaces=set()\n",
    "# counts for no topics and no places in articles\n",
    "cntnotop=0 \n",
    "cntnoplc=0 \n",
    "# Trie for the different topics, locations, and count of every word present across all articles\n",
    "trieTopics = Node()\n",
    "trieLoc = Node()\n",
    "WordCount = Node()\n",
    "\n",
    "for i in range(0,22):\n",
    "    # over all files\n",
    "    if(i>=10):\n",
    "        # file names differ by the #, which is double digit for i>=10\n",
    "        filename = 'reut2-0'+str(i)+'.sgm'\n",
    "    else:\n",
    "        filename = 'reut2-00'+str(i)+'.sgm'\n",
    "    path = ''+filename\n",
    "    file = open(path, 'rb')\n",
    "    data = file.read()\n",
    "    x = re.findall(r'<REUTERS(.*?)</REUTERS>', data.decode(\"windows-1252\"), re.DOTALL, overlapped=True)\n",
    "    # finds all instances of \"<REUTERS . . .\" in a given file and save them \n",
    "    \n",
    "    for j in range(0,len(x)):\n",
    "        # for all articles in a file since every article starts with the REUTERS tag\n",
    "        yTopic = re.findall(r'<TOPICS>(.*?)</TOPICS>', x[j], re.DOTALL, overlapped=True)\n",
    "        # store all topics in an article since an article can have multiple topics\n",
    "        for k in range(0,len(yTopic)):\n",
    "            lt = yTopic[k]\n",
    "            \n",
    "            topics = re.findall(r'<D>(.*?)</D>', lt, re.DOTALL, overlapped=True)\n",
    "            # Make sure D tag does not included as part of the topic name\n",
    "            if(len(topics)==0):\n",
    "                # length is 0 when there is no topic\n",
    "                cntnotop=cntnotop+1\n",
    "            for l in topics:\n",
    "                # for every topic found in an article\n",
    "                if (find(trieTopics,l) == None):\n",
    "                    # check if the topic is already in the trie, and if not insert it with value 1\n",
    "                    insert(trieTopics, l, 1)\n",
    "                else:\n",
    "                    # its been found already in the trie so increase the value by 1\n",
    "                    update(trieTopics, l, 1)\n",
    "                listtopics.add(l)\n",
    "                  \n",
    "        yPlace = re.findall(r'<PLACES>(.*?)</PLACES>', x[j], re.DOTALL, overlapped=True)\n",
    "        for k in range(0,len(yPlace)):\n",
    "            lt = yPlace[k]\n",
    "            places = re.findall(r'<D>(.*?)</D>', lt, re.DOTALL, overlapped=True)\n",
    "            if(len(places)==0):\n",
    "                cntnoplc=cntnoplc+1\n",
    "            for l in places:\n",
    "                if (find(trieLoc, l) == None):\n",
    "                    insert(trieLoc, l, 1)\n",
    "                else:\n",
    "                    update(trieLoc, l, 1)\n",
    "                listplaces.add(l)\n",
    "\n",
    "        yBody = re.findall(r'<BODY>(.*?)</BODY>', x[j], re.DOTALL, overlapped=True)\n",
    "        for b,word in enumerate(yBody):\n",
    "            # split the body into a bunch of different words\n",
    "            body = word.split()\n",
    "            body = [element.lower() for element in body] ; body            \n",
    "            for l in body:\n",
    "                if (find(WordCount, l) == None):\n",
    "                    insert(WordCount, l, 1)\n",
    "                else:\n",
    "                    update(WordCount, l, 1)\n",
    "# end of main for loop for all files\n",
    "\n",
    "# Print statements for the distinct list of topics, distinct list of places, and counts of topic-less and/or place-less \n",
    "# articles.  Although, we used set data structures to display the different keys here, it is easy to fetch values for keys \n",
    "# using a trie displayed below each.  Usage of sets was only done as part of \"developing our domain-specific knowledge\".\n",
    "print(listtopics)\n",
    "print(find_multiple(trieTopics, listtopics))\n",
    "print(listplaces)\n",
    "print(find_multiple(trieLoc, listplaces))\n",
    "print(\"Data objects with no entries for topics: \" + str(cntnotop))\n",
    "print(\"Data objects with no entries for places: \" + str(cntnoplc))"
   ]
  },
  {
   "cell_type": "code",
   "execution_count": 4,
   "metadata": {},
   "outputs": [
    {
     "name": "stdout",
     "output_type": "stream",
     "text": [
      "12542\n"
     ]
    }
   ],
   "source": [
    "# Some tests for \"finds\" on the tries are shown below\n",
    "\n",
    "print (find(trieLoc, \"usa\"))"
   ]
  },
  {
   "cell_type": "code",
   "execution_count": 5,
   "metadata": {},
   "outputs": [
    {
     "name": "stdout",
     "output_type": "stream",
     "text": [
      "184\n"
     ]
    }
   ],
   "source": [
    "print(find(trieTopics, \"sugar\"))"
   ]
  },
  {
   "cell_type": "code",
   "execution_count": 6,
   "metadata": {},
   "outputs": [
    {
     "name": "stdout",
     "output_type": "stream",
     "text": [
      "[12542, 567]\n"
     ]
    }
   ],
   "source": [
    "print (find_multiple(trieLoc, ['usa', 'west-germany']))"
   ]
  },
  {
   "cell_type": "code",
   "execution_count": 7,
   "metadata": {},
   "outputs": [
    {
     "name": "stdout",
     "output_type": "stream",
     "text": [
      "849\n",
      "50596\n"
     ]
    }
   ],
   "source": [
    "print (find(WordCount, 'agriculture'))\n",
    "print (find(WordCount, 'a'))"
   ]
  }
 ],
 "metadata": {
  "kernelspec": {
   "display_name": "Python 3",
   "language": "python",
   "name": "python3"
  },
  "language_info": {
   "codemirror_mode": {
    "name": "ipython",
    "version": 3
   },
   "file_extension": ".py",
   "mimetype": "text/x-python",
   "name": "python",
   "nbconvert_exporter": "python",
   "pygments_lexer": "ipython3",
   "version": "3.6.4"
  }
 },
 "nbformat": 4,
 "nbformat_minor": 2
}
